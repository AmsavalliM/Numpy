{
 "cells": [
  {
   "cell_type": "code",
   "execution_count": 10,
   "id": "3636ad17",
   "metadata": {},
   "outputs": [],
   "source": [
    "import pandas as pd\n",
    "import numpy as np\n",
    "import copy"
   ]
  },
  {
   "cell_type": "code",
   "execution_count": 11,
   "id": "b0840e35",
   "metadata": {},
   "outputs": [
    {
     "name": "stdout",
     "output_type": "stream",
     "text": [
      "[ 5 20 30 40 50]\n",
      "[10 20 30 40 50]\n"
     ]
    }
   ],
   "source": [
    "Orginal_array=np.array([10,20,30,40,50])\n",
    "copied_array=copy.deepcopy(Orginal_array)\n",
    "Orginal_array[0]=5\n",
    "print(Orginal_array)\n",
    "print(copied_array)\n",
    "     "
   ]
  },
  {
   "cell_type": "code",
   "execution_count": 12,
   "id": "c2534d30",
   "metadata": {},
   "outputs": [],
   "source": [
    "## Deep copy allocates object memory address in different location."
   ]
  },
  {
   "cell_type": "code",
   "execution_count": 13,
   "id": "398d343e",
   "metadata": {},
   "outputs": [
    {
     "name": "stdout",
     "output_type": "stream",
     "text": [
      "140270008623824\n",
      "140270833714928\n"
     ]
    }
   ],
   "source": [
    "print(id(Orginal_array))\n",
    "print(id(copied_array))"
   ]
  },
  {
   "cell_type": "code",
   "execution_count": 14,
   "id": "f747b72d",
   "metadata": {},
   "outputs": [],
   "source": [
    "## Deep copy simply copy all the elements of original array, \n",
    "## if we made any changes in the copied items it wont affect the original items."
   ]
  },
  {
   "cell_type": "code",
   "execution_count": 15,
   "id": "a3f55a4c",
   "metadata": {},
   "outputs": [],
   "source": [
    "copied_array[1]=60"
   ]
  },
  {
   "cell_type": "code",
   "execution_count": 16,
   "id": "8c43dc27",
   "metadata": {},
   "outputs": [
    {
     "data": {
      "text/plain": [
       "array([10, 60, 30, 40, 50])"
      ]
     },
     "execution_count": 16,
     "metadata": {},
     "output_type": "execute_result"
    }
   ],
   "source": [
    "copied_array"
   ]
  },
  {
   "cell_type": "code",
   "execution_count": 17,
   "id": "e60ea0b7",
   "metadata": {},
   "outputs": [
    {
     "data": {
      "text/plain": [
       "array([ 5, 20, 30, 40, 50])"
      ]
     },
     "execution_count": 17,
     "metadata": {},
     "output_type": "execute_result"
    }
   ],
   "source": [
    "Orginal_array"
   ]
  },
  {
   "cell_type": "code",
   "execution_count": 18,
   "id": "c7623158",
   "metadata": {},
   "outputs": [
    {
     "data": {
      "text/plain": [
       "False"
      ]
     },
     "execution_count": 18,
     "metadata": {},
     "output_type": "execute_result"
    }
   ],
   "source": [
    "Orginal_array is copied_array"
   ]
  },
  {
   "cell_type": "code",
   "execution_count": 19,
   "id": "7b480c8c",
   "metadata": {},
   "outputs": [
    {
     "data": {
      "text/plain": [
       "array([False, False,  True,  True,  True])"
      ]
     },
     "execution_count": 19,
     "metadata": {},
     "output_type": "execute_result"
    }
   ],
   "source": [
    "Orginal_array == copied_array"
   ]
  },
  {
   "cell_type": "code",
   "execution_count": 20,
   "id": "13f83a37",
   "metadata": {},
   "outputs": [],
   "source": [
    "### I made changes to old i.e old[1][2]=8 and see only the old list is modified\n",
    "### This means, both the old list and the new list are independent. \n",
    "### This is because Deep copy makes self-rule copy of the orginal item as well as all of its nested objects."
   ]
  },
  {
   "cell_type": "code",
   "execution_count": 21,
   "id": "4c9e0137",
   "metadata": {},
   "outputs": [
    {
     "name": "stdout",
     "output_type": "stream",
     "text": [
      "Old list: [[1, 3, 5], [2, 4, 8]]\n",
      "New list: [[1, 3, 5], [2, 4, 6]]\n"
     ]
    }
   ],
   "source": [
    "\n",
    "\n",
    "old = [[1,3,5],[2,4,6]]\n",
    "new = copy.deepcopy(old)\n",
    "\n",
    "old[1][2] = 8\n",
    "\n",
    "print(\"Old list:\", old)\n",
    "print(\"New list:\", new)\n",
    "\n"
   ]
  },
  {
   "cell_type": "code",
   "execution_count": null,
   "id": "e6340638",
   "metadata": {},
   "outputs": [],
   "source": []
  },
  {
   "cell_type": "code",
   "execution_count": null,
   "id": "d3079b0b",
   "metadata": {},
   "outputs": [],
   "source": []
  }
 ],
 "metadata": {
  "kernelspec": {
   "display_name": "Python 3 (ipykernel)",
   "language": "python",
   "name": "python3"
  },
  "language_info": {
   "codemirror_mode": {
    "name": "ipython",
    "version": 3
   },
   "file_extension": ".py",
   "mimetype": "text/x-python",
   "name": "python",
   "nbconvert_exporter": "python",
   "pygments_lexer": "ipython3",
   "version": "3.9.12"
  }
 },
 "nbformat": 4,
 "nbformat_minor": 5
}
