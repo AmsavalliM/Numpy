{
 "cells": [
  {
   "cell_type": "code",
   "execution_count": 1,
   "id": "6bd3f11d",
   "metadata": {},
   "outputs": [],
   "source": [
    "import pandas as pd\n",
    "import numpy as np"
   ]
  },
  {
   "cell_type": "code",
   "execution_count": 4,
   "id": "68840e23",
   "metadata": {},
   "outputs": [
    {
     "name": "stdout",
     "output_type": "stream",
     "text": [
      "[5 6 7 8 9]\n",
      "[5 6 7 8 9]\n"
     ]
    }
   ],
   "source": [
    "orginal_array=np.array([5,6,7,8,9])\n",
    "ref_array=orginal_array\n",
    "print(orginal_array)\n",
    "print(ref_array)"
   ]
  },
  {
   "cell_type": "code",
   "execution_count": 6,
   "id": "1d1735c2",
   "metadata": {},
   "outputs": [],
   "source": [
    "### Now we can change the particular element in orginal array using assignment statement and check with orginal.\n",
    "### The element has changed in both so both has same memory locations "
   ]
  },
  {
   "cell_type": "code",
   "execution_count": 5,
   "id": "215e1f10",
   "metadata": {},
   "outputs": [
    {
     "name": "stdout",
     "output_type": "stream",
     "text": [
      "[5 6 4 8 9]\n",
      "[5 6 4 8 9]\n"
     ]
    }
   ],
   "source": [
    "orginal_array[2]=4\n",
    "print(orginal_array)\n",
    "print(ref_array)"
   ]
  },
  {
   "cell_type": "code",
   "execution_count": 7,
   "id": "ba52705d",
   "metadata": {},
   "outputs": [],
   "source": [
    "## Check wether the two reference is located with the same memory\n",
    "   ## Method 1: Reference equality (is)\n",
    "    ## Method 2:To test equality using id function\n",
    "    "
   ]
  },
  {
   "cell_type": "code",
   "execution_count": 10,
   "id": "128f4f32",
   "metadata": {},
   "outputs": [
    {
     "name": "stdout",
     "output_type": "stream",
     "text": [
      "True\n"
     ]
    }
   ],
   "source": []
  },
  {
   "cell_type": "code",
   "execution_count": 11,
   "id": "341eae1e",
   "metadata": {
    "scrolled": true
   },
   "outputs": [
    {
     "name": "stdout",
     "output_type": "stream",
     "text": [
      "True\n",
      "140685690662320\n",
      "140685690662320\n"
     ]
    }
   ],
   "source": [
    "print(orginal_array is ref_array)\n",
    "print(id(orginal_array))\n",
    "print(id(ref_array))"
   ]
  },
  {
   "cell_type": "code",
   "execution_count": 1,
   "id": "b15f5610",
   "metadata": {},
   "outputs": [
    {
     "name": "stdout",
     "output_type": "stream",
     "text": [
      "Old list: [[1, 3, 5], [2, 4, 8]]\n",
      "New list: [[1, 3, 5], [2, 4, 8]]\n"
     ]
    }
   ],
   "source": [
    "old = [[1,3,5],[2,4,6]]\n",
    "new = old\n",
    "\n",
    "old[1][2] = 8\n",
    "\n",
    "print(\"Old list:\", old)\n",
    "print(\"New list:\", new)\n"
   ]
  },
  {
   "cell_type": "code",
   "execution_count": null,
   "id": "58ad2f07",
   "metadata": {},
   "outputs": [],
   "source": []
  }
 ],
 "metadata": {
  "kernelspec": {
   "display_name": "Python 3 (ipykernel)",
   "language": "python",
   "name": "python3"
  },
  "language_info": {
   "codemirror_mode": {
    "name": "ipython",
    "version": 3
   },
   "file_extension": ".py",
   "mimetype": "text/x-python",
   "name": "python",
   "nbconvert_exporter": "python",
   "pygments_lexer": "ipython3",
   "version": "3.9.12"
  }
 },
 "nbformat": 4,
 "nbformat_minor": 5
}
