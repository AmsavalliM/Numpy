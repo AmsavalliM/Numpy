{
 "cells": [
  {
   "cell_type": "code",
   "execution_count": 3,
   "id": "24fa5866",
   "metadata": {},
   "outputs": [],
   "source": [
    "import numpy as np\n",
    "import warnings \n",
    "warnings.filterwarnings('ignore')"
   ]
  },
  {
   "cell_type": "markdown",
   "id": "07dec8ca",
   "metadata": {},
   "source": [
    "## Creating Numpy Array"
   ]
  },
  {
   "cell_type": "code",
   "execution_count": 75,
   "id": "8d63b583",
   "metadata": {},
   "outputs": [
    {
     "data": {
      "text/plain": [
       "array([10, 20, 30, 40, 50])"
      ]
     },
     "execution_count": 75,
     "metadata": {},
     "output_type": "execute_result"
    }
   ],
   "source": [
    "val=np.array([10,20,30,40,50])\n",
    "val\n"
   ]
  },
  {
   "cell_type": "code",
   "execution_count": 76,
   "id": "f5628eb9",
   "metadata": {},
   "outputs": [
    {
     "data": {
      "text/plain": [
       "dtype('int64')"
      ]
     },
     "execution_count": 76,
     "metadata": {},
     "output_type": "execute_result"
    }
   ],
   "source": [
    "val.dtype"
   ]
  },
  {
   "cell_type": "markdown",
   "id": "dd4ca0ae",
   "metadata": {},
   "source": [
    "## Access elements of NumPy Array"
   ]
  },
  {
   "cell_type": "code",
   "execution_count": 77,
   "id": "9b7c4528",
   "metadata": {},
   "outputs": [
    {
     "data": {
      "text/plain": [
       "20"
      ]
     },
     "execution_count": 77,
     "metadata": {},
     "output_type": "execute_result"
    }
   ],
   "source": [
    "val[1]"
   ]
  },
  {
   "cell_type": "markdown",
   "id": "179c70c2",
   "metadata": {},
   "source": [
    "### Assign  value "
   ]
  },
  {
   "cell_type": "code",
   "execution_count": 78,
   "id": "d7d3d443",
   "metadata": {},
   "outputs": [
    {
     "data": {
      "text/plain": [
       "array([10, 20, 30, 60, 50])"
      ]
     },
     "execution_count": 78,
     "metadata": {},
     "output_type": "execute_result"
    }
   ],
   "source": [
    "val[3]=60\n",
    "val"
   ]
  },
  {
   "cell_type": "markdown",
   "id": "1389a863",
   "metadata": {},
   "source": [
    "### Insert Item"
   ]
  },
  {
   "cell_type": "code",
   "execution_count": 79,
   "id": "8728708e",
   "metadata": {},
   "outputs": [
    {
     "data": {
      "text/plain": [
       "array([10, 70, 20, 30, 60, 50])"
      ]
     },
     "execution_count": 79,
     "metadata": {},
     "output_type": "execute_result"
    }
   ],
   "source": [
    "# Insert the item using Index and Value\n",
    "z = np.insert(val, 1, 70)\n",
    "z"
   ]
  },
  {
   "cell_type": "code",
   "execution_count": 80,
   "id": "fa57f9c1",
   "metadata": {},
   "outputs": [
    {
     "data": {
      "text/plain": [
       "array([10, 20, 30, 60, 50, 80])"
      ]
     },
     "execution_count": 80,
     "metadata": {},
     "output_type": "execute_result"
    }
   ],
   "source": [
    "# Append the item by value\n",
    "val = np.append(val, 80)\n",
    "val"
   ]
  },
  {
   "cell_type": "code",
   "execution_count": 81,
   "id": "a984c7ff",
   "metadata": {},
   "outputs": [
    {
     "data": {
      "text/plain": [
       "array([10, 20, 30, 60, 50])"
      ]
     },
     "execution_count": 81,
     "metadata": {},
     "output_type": "execute_result"
    }
   ],
   "source": [
    "# Remove the item using Index\n",
    "val = np.delete(val, 5)\n",
    "val"
   ]
  },
  {
   "cell_type": "code",
   "execution_count": 83,
   "id": "765e0ac4",
   "metadata": {},
   "outputs": [
    {
     "data": {
      "text/plain": [
       "array([10, 20, 30, 50, 60])"
      ]
     },
     "execution_count": 83,
     "metadata": {},
     "output_type": "execute_result"
    }
   ],
   "source": [
    "### Sorting Value\n",
    "val=np.sort(val)\n",
    "val"
   ]
  },
  {
   "cell_type": "markdown",
   "id": "44c2db19",
   "metadata": {},
   "source": [
    "#### Let's Assign Float Value"
   ]
  },
  {
   "cell_type": "code",
   "execution_count": 9,
   "id": "f82e1ce5",
   "metadata": {},
   "outputs": [
    {
     "data": {
      "text/plain": [
       "array([10, 20, 30, 60, 50])"
      ]
     },
     "execution_count": 9,
     "metadata": {},
     "output_type": "execute_result"
    }
   ],
   "source": [
    "val[1]=20.5  #### NumPy only support same kind of data type so the val[1] remain same\n",
    "val  "
   ]
  },
  {
   "cell_type": "code",
   "execution_count": 10,
   "id": "c2c900a1",
   "metadata": {},
   "outputs": [],
   "source": [
    "### Float Data Type"
   ]
  },
  {
   "cell_type": "code",
   "execution_count": 11,
   "id": "46ee3a6a",
   "metadata": {},
   "outputs": [
    {
     "data": {
      "text/plain": [
       "array([10.2 , 20.5 , 30.67, 40.5 ])"
      ]
     },
     "execution_count": 11,
     "metadata": {},
     "output_type": "execute_result"
    }
   ],
   "source": [
    "val1=np.array([10.2,20.5,30.67,40.5])\n",
    "val1"
   ]
  },
  {
   "cell_type": "code",
   "execution_count": 12,
   "id": "c2602a83",
   "metadata": {},
   "outputs": [
    {
     "data": {
      "text/plain": [
       "dtype('float64')"
      ]
     },
     "execution_count": 12,
     "metadata": {},
     "output_type": "execute_result"
    }
   ],
   "source": [
    "val1.dtype"
   ]
  },
  {
   "cell_type": "markdown",
   "id": "190b27d1",
   "metadata": {},
   "source": [
    "# N Dimensional Array "
   ]
  },
  {
   "cell_type": "markdown",
   "id": "fc8c4b03",
   "metadata": {},
   "source": [
    "### one Dimensional Array "
   ]
  },
  {
   "cell_type": "code",
   "execution_count": 13,
   "id": "4d69d307",
   "metadata": {},
   "outputs": [
    {
     "data": {
      "text/plain": [
       "array([99, 88, 77, 66])"
      ]
     },
     "execution_count": 13,
     "metadata": {},
     "output_type": "execute_result"
    }
   ],
   "source": [
    "one_D=np.array([99,88,77,66])\n",
    "one_D"
   ]
  },
  {
   "cell_type": "markdown",
   "id": "6304a0b8",
   "metadata": {},
   "source": [
    "### Two Dimensional Array"
   ]
  },
  {
   "cell_type": "code",
   "execution_count": 17,
   "id": "ce2658db",
   "metadata": {},
   "outputs": [
    {
     "data": {
      "text/plain": [
       "array([[ 2,  4,  6,  8],\n",
       "       [ 3,  6,  9, 12],\n",
       "       [ 4,  8, 12, 16]])"
      ]
     },
     "execution_count": 17,
     "metadata": {},
     "output_type": "execute_result"
    }
   ],
   "source": [
    "two_D=np.array([[2,4,6,8],[3,6,9,12],[4,8,12,16]])\n",
    "two_D"
   ]
  },
  {
   "cell_type": "code",
   "execution_count": 18,
   "id": "8b83be52",
   "metadata": {},
   "outputs": [
    {
     "data": {
      "text/plain": [
       "2"
      ]
     },
     "execution_count": 18,
     "metadata": {},
     "output_type": "execute_result"
    }
   ],
   "source": [
    "two_D.ndim"
   ]
  },
  {
   "cell_type": "code",
   "execution_count": 19,
   "id": "1e2c4eda",
   "metadata": {},
   "outputs": [
    {
     "data": {
      "text/plain": [
       "(3, 4)"
      ]
     },
     "execution_count": 19,
     "metadata": {},
     "output_type": "execute_result"
    }
   ],
   "source": [
    "two_D.shape"
   ]
  },
  {
   "cell_type": "code",
   "execution_count": 20,
   "id": "3689680f",
   "metadata": {},
   "outputs": [
    {
     "data": {
      "text/plain": [
       "12"
      ]
     },
     "execution_count": 20,
     "metadata": {},
     "output_type": "execute_result"
    }
   ],
   "source": [
    "two_D.size"
   ]
  },
  {
   "cell_type": "markdown",
   "id": "068fe896",
   "metadata": {},
   "source": [
    "### Three Dimensional Array"
   ]
  },
  {
   "cell_type": "code",
   "execution_count": 23,
   "id": "f7ab34b0",
   "metadata": {},
   "outputs": [
    {
     "data": {
      "text/plain": [
       "array([[[ 1,  2,  3,  4],\n",
       "        [ 6,  7,  8,  9]],\n",
       "\n",
       "       [[10, 11, 12,  6],\n",
       "        [13, 14, 15, 16]]])"
      ]
     },
     "execution_count": 23,
     "metadata": {},
     "output_type": "execute_result"
    }
   ],
   "source": [
    "three_D=np.array([\n",
    "   [\n",
    "    [1,2,3,4],\n",
    "    [6,7,8,9]\n",
    "],\n",
    "   [\n",
    "    \n",
    "    [10,11,12,6],\n",
    "    [13,14,15,16]\n",
    "   ]\n",
    "                 ])\n",
    "\n",
    "three_D"
   ]
  },
  {
   "cell_type": "code",
   "execution_count": 24,
   "id": "2986c549",
   "metadata": {},
   "outputs": [
    {
     "data": {
      "text/plain": [
       "3"
      ]
     },
     "execution_count": 24,
     "metadata": {},
     "output_type": "execute_result"
    }
   ],
   "source": [
    "three_D.ndim"
   ]
  },
  {
   "cell_type": "code",
   "execution_count": 25,
   "id": "ebbc72dd",
   "metadata": {},
   "outputs": [
    {
     "data": {
      "text/plain": [
       "16"
      ]
     },
     "execution_count": 25,
     "metadata": {},
     "output_type": "execute_result"
    }
   ],
   "source": [
    "three_D.size"
   ]
  },
  {
   "cell_type": "code",
   "execution_count": 26,
   "id": "0ae6406a",
   "metadata": {},
   "outputs": [
    {
     "data": {
      "text/plain": [
       "(2, 2, 4)"
      ]
     },
     "execution_count": 26,
     "metadata": {},
     "output_type": "execute_result"
    }
   ],
   "source": [
    "three_D.shape"
   ]
  },
  {
   "cell_type": "markdown",
   "id": "c119e6d5",
   "metadata": {},
   "source": [
    "# Array from DataStructure"
   ]
  },
  {
   "cell_type": "markdown",
   "id": "f3a055de",
   "metadata": {},
   "source": [
    "### Array from list"
   ]
  },
  {
   "cell_type": "code",
   "execution_count": 28,
   "id": "e26f7886",
   "metadata": {},
   "outputs": [
    {
     "data": {
      "text/plain": [
       "[2, 4, 6, 8]"
      ]
     },
     "execution_count": 28,
     "metadata": {},
     "output_type": "execute_result"
    }
   ],
   "source": [
    "list_items=[2,4,6,8]\n",
    "list_items"
   ]
  },
  {
   "cell_type": "code",
   "execution_count": 29,
   "id": "a2d85b6e",
   "metadata": {},
   "outputs": [
    {
     "data": {
      "text/plain": [
       "array([2, 4, 6, 8])"
      ]
     },
     "execution_count": 29,
     "metadata": {},
     "output_type": "execute_result"
    }
   ],
   "source": [
    "array_list=np.array(list_items)\n",
    "array_list"
   ]
  },
  {
   "cell_type": "markdown",
   "id": "5fcf312f",
   "metadata": {},
   "source": [
    "### Array from tuple"
   ]
  },
  {
   "cell_type": "code",
   "execution_count": 31,
   "id": "c693a77f",
   "metadata": {},
   "outputs": [
    {
     "data": {
      "text/plain": [
       "array([ 3,  9, 11, 13])"
      ]
     },
     "execution_count": 31,
     "metadata": {},
     "output_type": "execute_result"
    }
   ],
   "source": [
    "tuple_items=(3,9,11,13)\n",
    "array_tuple=np.array(tuple_items)\n",
    "array_tuple"
   ]
  },
  {
   "cell_type": "markdown",
   "id": "99a79e36",
   "metadata": {},
   "source": [
    "# Intrincic Numpy Array Creation"
   ]
  },
  {
   "cell_type": "markdown",
   "id": "bc596f5d",
   "metadata": {},
   "source": [
    "### arange() will create array with regular incrementing values"
   ]
  },
  {
   "cell_type": "code",
   "execution_count": 4,
   "id": "adc567d0",
   "metadata": {},
   "outputs": [
    {
     "data": {
      "text/plain": [
       "array([ 0,  1,  2,  3,  4,  5,  6,  7,  8,  9, 10, 11, 12, 13, 14])"
      ]
     },
     "execution_count": 4,
     "metadata": {},
     "output_type": "execute_result"
    }
   ],
   "source": [
    "x=np.arange(15)\n",
    "x"
   ]
  },
  {
   "cell_type": "code",
   "execution_count": 5,
   "id": "bbee8cc8",
   "metadata": {},
   "outputs": [
    {
     "data": {
      "text/plain": [
       "array([2., 3., 4., 5., 6., 7., 8., 9.])"
      ]
     },
     "execution_count": 5,
     "metadata": {},
     "output_type": "execute_result"
    }
   ],
   "source": [
    "np.arange(2,10,dtype=np.float)"
   ]
  },
  {
   "cell_type": "code",
   "execution_count": 39,
   "id": "5586a120",
   "metadata": {},
   "outputs": [
    {
     "data": {
      "text/plain": [
       "array([3. , 3.1, 3.2, 3.3, 3.4, 3.5, 3.6, 3.7, 3.8, 3.9])"
      ]
     },
     "execution_count": 39,
     "metadata": {},
     "output_type": "execute_result"
    }
   ],
   "source": [
    "y=np.arange(3,4,0.1)\n",
    "y"
   ]
  },
  {
   "cell_type": "markdown",
   "id": "c0f4c751",
   "metadata": {},
   "source": [
    "### Linspace - Number of random values between the range\n"
   ]
  },
  {
   "cell_type": "code",
   "execution_count": 41,
   "id": "97968fd2",
   "metadata": {},
   "outputs": [
    {
     "data": {
      "text/plain": [
       "array([1.        , 1.08163265, 1.16326531, 1.24489796, 1.32653061,\n",
       "       1.40816327, 1.48979592, 1.57142857, 1.65306122, 1.73469388,\n",
       "       1.81632653, 1.89795918, 1.97959184, 2.06122449, 2.14285714,\n",
       "       2.2244898 , 2.30612245, 2.3877551 , 2.46938776, 2.55102041,\n",
       "       2.63265306, 2.71428571, 2.79591837, 2.87755102, 2.95918367,\n",
       "       3.04081633, 3.12244898, 3.20408163, 3.28571429, 3.36734694,\n",
       "       3.44897959, 3.53061224, 3.6122449 , 3.69387755, 3.7755102 ,\n",
       "       3.85714286, 3.93877551, 4.02040816, 4.10204082, 4.18367347,\n",
       "       4.26530612, 4.34693878, 4.42857143, 4.51020408, 4.59183673,\n",
       "       4.67346939, 4.75510204, 4.83673469, 4.91836735, 5.        ])"
      ]
     },
     "execution_count": 41,
     "metadata": {},
     "output_type": "execute_result"
    }
   ],
   "source": [
    "values=np.linspace(1,5)\n",
    "values"
   ]
  },
  {
   "cell_type": "markdown",
   "id": "62c7c08e",
   "metadata": {},
   "source": [
    "### Randint - Number of random integers between the range\n"
   ]
  },
  {
   "cell_type": "code",
   "execution_count": 42,
   "id": "ec682a94",
   "metadata": {},
   "outputs": [
    {
     "data": {
      "text/plain": [
       "9"
      ]
     },
     "execution_count": 42,
     "metadata": {},
     "output_type": "execute_result"
    }
   ],
   "source": [
    "# Random value between the range\n",
    "items = np.random.randint(1, 10)\n",
    "items"
   ]
  },
  {
   "cell_type": "code",
   "execution_count": 43,
   "id": "1df68da9",
   "metadata": {},
   "outputs": [
    {
     "data": {
      "text/plain": [
       "array([30, 16, 45, 10, 41, 49])"
      ]
     },
     "execution_count": 43,
     "metadata": {},
     "output_type": "execute_result"
    }
   ],
   "source": [
    "# How many random values between 0 to number\n",
    "items = np.random.randint(1, 50, 6)\n",
    "items"
   ]
  },
  {
   "cell_type": "markdown",
   "id": "b0719a12",
   "metadata": {},
   "source": [
    "### Creating numpy array with fixes values"
   ]
  },
  {
   "cell_type": "markdown",
   "id": "3526acf4",
   "metadata": {},
   "source": [
    "##### Zeros"
   ]
  },
  {
   "cell_type": "code",
   "execution_count": 44,
   "id": "acd380a4",
   "metadata": {},
   "outputs": [
    {
     "data": {
      "text/plain": [
       "array([0., 0., 0.])"
      ]
     },
     "execution_count": 44,
     "metadata": {},
     "output_type": "execute_result"
    }
   ],
   "source": [
    "x=np.zeros(3)\n",
    "x"
   ]
  },
  {
   "cell_type": "code",
   "execution_count": 50,
   "id": "bb5783c8",
   "metadata": {},
   "outputs": [
    {
     "data": {
      "text/plain": [
       "array([[0., 0.],\n",
       "       [0., 0.],\n",
       "       [0., 0.],\n",
       "       [0., 0.]])"
      ]
     },
     "execution_count": 50,
     "metadata": {},
     "output_type": "execute_result"
    }
   ],
   "source": [
    "y=np.zeros((4,2))\n",
    "y"
   ]
  },
  {
   "cell_type": "markdown",
   "id": "15a41faf",
   "metadata": {},
   "source": [
    "##### Ones"
   ]
  },
  {
   "cell_type": "code",
   "execution_count": 51,
   "id": "98b241b0",
   "metadata": {},
   "outputs": [
    {
     "data": {
      "text/plain": [
       "array([1., 1., 1., 1., 1., 1.])"
      ]
     },
     "execution_count": 51,
     "metadata": {},
     "output_type": "execute_result"
    }
   ],
   "source": [
    "val=np.ones(6)\n",
    "val"
   ]
  },
  {
   "cell_type": "code",
   "execution_count": 54,
   "id": "e964941c",
   "metadata": {},
   "outputs": [
    {
     "data": {
      "text/plain": [
       "array([1, 1, 1])"
      ]
     },
     "execution_count": 54,
     "metadata": {},
     "output_type": "execute_result"
    }
   ],
   "source": [
    "x=np.ones(3,dtype=int)\n",
    "x"
   ]
  },
  {
   "cell_type": "markdown",
   "id": "d77aaf0f",
   "metadata": {},
   "source": [
    "##### Empty -Initialize array without values"
   ]
  },
  {
   "cell_type": "code",
   "execution_count": 56,
   "id": "4d366d81",
   "metadata": {},
   "outputs": [
    {
     "data": {
      "text/plain": [
       "array([2.05833592e-312, 2.33419537e-312])"
      ]
     },
     "execution_count": 56,
     "metadata": {},
     "output_type": "execute_result"
    }
   ],
   "source": [
    "items = np.empty(2) #### NOTE: Empty does not only gives zero. Sometimes some uninitialized array\n",
    "items"
   ]
  },
  {
   "cell_type": "markdown",
   "id": "116865b5",
   "metadata": {},
   "source": [
    "##### Fill"
   ]
  },
  {
   "cell_type": "code",
   "execution_count": 58,
   "id": "5b5cbd4e",
   "metadata": {},
   "outputs": [
    {
     "data": {
      "text/plain": [
       "array([4., 4., 4., 4., 4.])"
      ]
     },
     "execution_count": 58,
     "metadata": {},
     "output_type": "execute_result"
    }
   ],
   "source": [
    "items = np.empty(5)\n",
    "items.fill(4)\n",
    "items"
   ]
  },
  {
   "cell_type": "markdown",
   "id": "9c6c070f",
   "metadata": {},
   "source": [
    "##### Full"
   ]
  },
  {
   "cell_type": "code",
   "execution_count": 59,
   "id": "60c32ac2",
   "metadata": {},
   "outputs": [
    {
     "data": {
      "text/plain": [
       "array([4, 4, 4, 4, 4])"
      ]
     },
     "execution_count": 59,
     "metadata": {},
     "output_type": "execute_result"
    }
   ],
   "source": [
    "x = np.full(5, 4)\n",
    "x"
   ]
  },
  {
   "cell_type": "code",
   "execution_count": 64,
   "id": "1beaa5ee",
   "metadata": {},
   "outputs": [
    {
     "data": {
      "text/plain": [
       "array([[6, 6, 6],\n",
       "       [6, 6, 6],\n",
       "       [6, 6, 6],\n",
       "       [6, 6, 6],\n",
       "       [6, 6, 6]])"
      ]
     },
     "execution_count": 64,
     "metadata": {},
     "output_type": "execute_result"
    }
   ],
   "source": [
    "y = np.full((5,3),6)\n",
    "y"
   ]
  },
  {
   "cell_type": "markdown",
   "id": "3689be87",
   "metadata": {},
   "source": [
    "## Reshape"
   ]
  },
  {
   "cell_type": "markdown",
   "id": "191a7a0f",
   "metadata": {},
   "source": [
    "###  reshape Gives a new shape to an array without changing its data"
   ]
  },
  {
   "cell_type": "code",
   "execution_count": 12,
   "id": "893c0c94",
   "metadata": {},
   "outputs": [
    {
     "data": {
      "text/plain": [
       "array([ 1,  2,  3,  4,  5,  6,  7,  8,  9, 10, 11, 12, 13, 14, 15, 16, 17,\n",
       "       18, 19, 20, 21, 22, 23, 24])"
      ]
     },
     "execution_count": 12,
     "metadata": {},
     "output_type": "execute_result"
    }
   ],
   "source": [
    "items=np.arange(1,25)\n",
    "items"
   ]
  },
  {
   "cell_type": "code",
   "execution_count": 13,
   "id": "9c1b6a4e",
   "metadata": {},
   "outputs": [
    {
     "data": {
      "text/plain": [
       "array([[ 1,  2,  3,  4,  5,  6],\n",
       "       [ 7,  8,  9, 10, 11, 12],\n",
       "       [13, 14, 15, 16, 17, 18],\n",
       "       [19, 20, 21, 22, 23, 24]])"
      ]
     },
     "execution_count": 13,
     "metadata": {},
     "output_type": "execute_result"
    }
   ],
   "source": [
    "np.reshape(items, (4,6))\n"
   ]
  },
  {
   "cell_type": "code",
   "execution_count": 14,
   "id": "5c64af75",
   "metadata": {},
   "outputs": [
    {
     "data": {
      "text/plain": [
       "array([[[ 1,  2],\n",
       "        [ 3,  4],\n",
       "        [ 5,  6],\n",
       "        [ 7,  8]],\n",
       "\n",
       "       [[ 9, 10],\n",
       "        [11, 12],\n",
       "        [13, 14],\n",
       "        [15, 16]],\n",
       "\n",
       "       [[17, 18],\n",
       "        [19, 20],\n",
       "        [21, 22],\n",
       "        [23, 24]]])"
      ]
     },
     "execution_count": 14,
     "metadata": {},
     "output_type": "execute_result"
    }
   ],
   "source": [
    "np.reshape(items, (3, 4, 2))"
   ]
  },
  {
   "cell_type": "code",
   "execution_count": 15,
   "id": "adb2fd52",
   "metadata": {},
   "outputs": [
    {
     "data": {
      "text/plain": [
       "array([ 1,  2,  3,  4,  5,  6,  7,  8,  9, 10, 11, 12, 13, 14, 15, 16, 17,\n",
       "       18, 19, 20, 21, 22, 23, 24])"
      ]
     },
     "execution_count": 15,
     "metadata": {},
     "output_type": "execute_result"
    }
   ],
   "source": [
    "np.reshape(items, 24)"
   ]
  },
  {
   "cell_type": "markdown",
   "id": "e9c11412",
   "metadata": {},
   "source": [
    "## Flatten"
   ]
  },
  {
   "cell_type": "code",
   "execution_count": 18,
   "id": "c201fcd4",
   "metadata": {},
   "outputs": [
    {
     "data": {
      "text/plain": [
       "array([[[ 1,  2],\n",
       "        [ 3,  4],\n",
       "        [ 5,  6],\n",
       "        [ 7,  8]],\n",
       "\n",
       "       [[ 9, 10],\n",
       "        [11, 12],\n",
       "        [13, 14],\n",
       "        [15, 16]],\n",
       "\n",
       "       [[17, 18],\n",
       "        [19, 20],\n",
       "        [21, 22],\n",
       "        [23, 24]]])"
      ]
     },
     "execution_count": 18,
     "metadata": {},
     "output_type": "execute_result"
    }
   ],
   "source": [
    "items = np.reshape(items, (3, 4, 2))\n",
    "items"
   ]
  },
  {
   "cell_type": "code",
   "execution_count": 19,
   "id": "35d2bfdf",
   "metadata": {},
   "outputs": [
    {
     "data": {
      "text/plain": [
       "array([ 1,  2,  3,  4,  5,  6,  7,  8,  9, 10, 11, 12, 13, 14, 15, 16, 17,\n",
       "       18, 19, 20, 21, 22, 23, 24])"
      ]
     },
     "execution_count": 19,
     "metadata": {},
     "output_type": "execute_result"
    }
   ],
   "source": [
    "items_flat = items.flatten()\n",
    "items_flat"
   ]
  },
  {
   "cell_type": "markdown",
   "id": "498ecb83",
   "metadata": {},
   "source": [
    "## Ravel"
   ]
  },
  {
   "cell_type": "code",
   "execution_count": 20,
   "id": "ca382753",
   "metadata": {},
   "outputs": [
    {
     "data": {
      "text/plain": [
       "array([[[ 1,  2],\n",
       "        [ 3,  4],\n",
       "        [ 5,  6],\n",
       "        [ 7,  8]],\n",
       "\n",
       "       [[ 9, 10],\n",
       "        [11, 12],\n",
       "        [13, 14],\n",
       "        [15, 16]],\n",
       "\n",
       "       [[17, 18],\n",
       "        [19, 20],\n",
       "        [21, 22],\n",
       "        [23, 24]]])"
      ]
     },
     "execution_count": 20,
     "metadata": {},
     "output_type": "execute_result"
    }
   ],
   "source": [
    "items = np.reshape(items, (3, 4, 2))\n",
    "items"
   ]
  },
  {
   "cell_type": "code",
   "execution_count": 21,
   "id": "ac212685",
   "metadata": {},
   "outputs": [
    {
     "data": {
      "text/plain": [
       "array([ 1,  2,  3,  4,  5,  6,  7,  8,  9, 10, 11, 12, 13, 14, 15, 16, 17,\n",
       "       18, 19, 20, 21, 22, 23, 24])"
      ]
     },
     "execution_count": 21,
     "metadata": {},
     "output_type": "execute_result"
    }
   ],
   "source": [
    "items_ravel = items.ravel()\n",
    "items_ravel"
   ]
  },
  {
   "cell_type": "code",
   "execution_count": 22,
   "id": "00292887",
   "metadata": {},
   "outputs": [
    {
     "data": {
      "text/plain": [
       "1"
      ]
     },
     "execution_count": 22,
     "metadata": {},
     "output_type": "execute_result"
    }
   ],
   "source": [
    "items_ravel[0]"
   ]
  },
  {
   "cell_type": "code",
   "execution_count": 25,
   "id": "cffe3fb2",
   "metadata": {},
   "outputs": [],
   "source": [
    "items_ravel[0]=100\n",
    "items_flat[0]=200"
   ]
  },
  {
   "cell_type": "code",
   "execution_count": 26,
   "id": "095beac8",
   "metadata": {},
   "outputs": [
    {
     "data": {
      "text/plain": [
       "(array([[[100,   2],\n",
       "         [  3,   4],\n",
       "         [  5,   6],\n",
       "         [  7,   8]],\n",
       " \n",
       "        [[  9,  10],\n",
       "         [ 11,  12],\n",
       "         [ 13,  14],\n",
       "         [ 15,  16]],\n",
       " \n",
       "        [[ 17,  18],\n",
       "         [ 19,  20],\n",
       "         [ 21,  22],\n",
       "         [ 23,  24]]]),\n",
       " array([200,   2,   3,   4,   5,   6,   7,   8,   9,  10,  11,  12,  13,\n",
       "         14,  15,  16,  17,  18,  19,  20,  21,  22,  23,  24]),\n",
       " array([100,   2,   3,   4,   5,   6,   7,   8,   9,  10,  11,  12,  13,\n",
       "         14,  15,  16,  17,  18,  19,  20,  21,  22,  23,  24]))"
      ]
     },
     "execution_count": 26,
     "metadata": {},
     "output_type": "execute_result"
    }
   ],
   "source": [
    "items, items_flat, items_ravel"
   ]
  },
  {
   "cell_type": "code",
   "execution_count": 27,
   "id": "441d64ae",
   "metadata": {},
   "outputs": [],
   "source": [
    "##Ravel is the reference of original array, Any changes in ravel will affect original array\n",
    "## Flatten is copy of original array, Any changes in flatten does not affect the original array\n"
   ]
  },
  {
   "cell_type": "code",
   "execution_count": null,
   "id": "aad08d4e",
   "metadata": {},
   "outputs": [],
   "source": []
  }
 ],
 "metadata": {
  "kernelspec": {
   "display_name": "Python 3 (ipykernel)",
   "language": "python",
   "name": "python3"
  },
  "language_info": {
   "codemirror_mode": {
    "name": "ipython",
    "version": 3
   },
   "file_extension": ".py",
   "mimetype": "text/x-python",
   "name": "python",
   "nbconvert_exporter": "python",
   "pygments_lexer": "ipython3",
   "version": "3.9.12"
  }
 },
 "nbformat": 4,
 "nbformat_minor": 5
}
