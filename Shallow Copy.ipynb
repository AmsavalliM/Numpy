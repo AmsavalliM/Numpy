{
 "cells": [
  {
   "cell_type": "code",
   "execution_count": 1,
   "id": "eee5d0cf",
   "metadata": {},
   "outputs": [],
   "source": [
    "import pandas as pd \n",
    "import numpy as np\n",
    "import copy"
   ]
  },
  {
   "cell_type": "code",
   "execution_count": 2,
   "id": "1936564a",
   "metadata": {},
   "outputs": [],
   "source": [
    "## A shallow copy generate a new object which stores the reference of the original elements."
   ]
  },
  {
   "cell_type": "code",
   "execution_count": 3,
   "id": "04f1f3c9",
   "metadata": {},
   "outputs": [],
   "source": [
    "## Create a copy using shallow copy"
   ]
  },
  {
   "cell_type": "code",
   "execution_count": 8,
   "id": "f864fe6b",
   "metadata": {},
   "outputs": [
    {
     "name": "stdout",
     "output_type": "stream",
     "text": [
      "[1 3 5 7]\n",
      "[1 3 5 7]\n"
     ]
    }
   ],
   "source": [
    "original=np.array([1,3,5,7])\n",
    "new=copy.copy(orginal)\n",
    "print(orginal)\n",
    "print(new)"
   ]
  },
  {
   "cell_type": "code",
   "execution_count": 9,
   "id": "d07dd1e0",
   "metadata": {},
   "outputs": [],
   "source": [
    "## This means it will create new and independent object with same content.\n",
    "## To verify this, we print the both old_list and new_list."
   ]
  },
  {
   "cell_type": "code",
   "execution_count": 10,
   "id": "81cd496d",
   "metadata": {},
   "outputs": [],
   "source": [
    "### Then we add the 9 into original. but this was not copied in new."
   ]
  },
  {
   "cell_type": "code",
   "execution_count": 11,
   "id": "4bc21220",
   "metadata": {
    "scrolled": true
   },
   "outputs": [
    {
     "name": "stdout",
     "output_type": "stream",
     "text": [
      "[1 3 5 7 9]\n",
      "[1 3 5 7]\n"
     ]
    }
   ],
   "source": [
    "original=np.append(original,[9])\n",
    "print(original)\n",
    "print(new)"
   ]
  },
  {
   "cell_type": "code",
   "execution_count": 12,
   "id": "0ec45211",
   "metadata": {},
   "outputs": [
    {
     "name": "stdout",
     "output_type": "stream",
     "text": [
      "[2 3 5 7]\n",
      "[1 3 5 7]\n"
     ]
    }
   ],
   "source": [
    "original=np.array([1,3,5,7])\n",
    "new=copy.copy(original)\n",
    "original[0]=2\n",
    "print(original)\n",
    "print(new)"
   ]
  },
  {
   "cell_type": "code",
   "execution_count": 13,
   "id": "d1f08bca",
   "metadata": {},
   "outputs": [
    {
     "name": "stdout",
     "output_type": "stream",
     "text": [
      "140477800008560\n",
      "140477800008080\n"
     ]
    }
   ],
   "source": [
    "print(id(original))\n",
    "print(id(new))"
   ]
  },
  {
   "cell_type": "code",
   "execution_count": 14,
   "id": "785ff7a2",
   "metadata": {},
   "outputs": [
    {
     "data": {
      "text/plain": [
       "False"
      ]
     },
     "execution_count": 14,
     "metadata": {},
     "output_type": "execute_result"
    }
   ],
   "source": [
    "orginal is new"
   ]
  },
  {
   "cell_type": "code",
   "execution_count": 15,
   "id": "720807a3",
   "metadata": {},
   "outputs": [],
   "source": [
    "## Adding new nested object using Shallow copy\n",
    "\n"
   ]
  },
  {
   "cell_type": "code",
   "execution_count": 16,
   "id": "2e3abdf6",
   "metadata": {},
   "outputs": [
    {
     "name": "stdout",
     "output_type": "stream",
     "text": [
      "Old list: [[1, 3, 5], [2, 8, 6]]\n",
      "New list: [[1, 3, 5], [2, 8, 6]]\n",
      "140477551695168\n",
      "140477551689408\n"
     ]
    }
   ],
   "source": [
    "import copy\n",
    "\n",
    "old = [[1,3,5],[2,4,6]]\n",
    "new = copy.copy(old)\n",
    "\n",
    "old[1][1] = 8\n",
    "\n",
    "print(\"Old list:\", old)\n",
    "print(\"New list:\", new)\n",
    "print(id(old))\n",
    "print(id(new))"
   ]
  },
  {
   "cell_type": "code",
   "execution_count": null,
   "id": "e8d744ae",
   "metadata": {},
   "outputs": [],
   "source": []
  }
 ],
 "metadata": {
  "kernelspec": {
   "display_name": "Python 3 (ipykernel)",
   "language": "python",
   "name": "python3"
  },
  "language_info": {
   "codemirror_mode": {
    "name": "ipython",
    "version": 3
   },
   "file_extension": ".py",
   "mimetype": "text/x-python",
   "name": "python",
   "nbconvert_exporter": "python",
   "pygments_lexer": "ipython3",
   "version": "3.9.12"
  }
 },
 "nbformat": 4,
 "nbformat_minor": 5
}
